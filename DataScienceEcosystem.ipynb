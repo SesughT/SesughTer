{
 "cells": [
  {
   "cell_type": "markdown",
   "id": "ef1b913d-9a1b-4626-97d2-c83ad1eefb28",
   "metadata": {},
   "source": [
    "# Data Science Tools and Ecosystem"
   ]
  },
  {
   "cell_type": "markdown",
   "id": "3baa2881-2772-41c4-8607-01252815505c",
   "metadata": {
    "tags": []
   },
   "source": [
    "# In this notebook, Data Science and Ecosystems are summarized"
   ]
  },
  {
   "cell_type": "markdown",
   "id": "fb7fb2da-f9c8-4d10-b7a3-e534bc49bf5e",
   "metadata": {},
   "source": [
    "**Objectives:**\n",
    "- Describe the components of Data Scientists toolkit and list various tools categories\n",
    "- Identify the criteria and roles for determining the language to learn\n",
    "- Identify the users and benefits of Python\n",
    "- Identify the users and benefits of R\n",
    "- Define SQL elements and list their benefits."
   ]
  },
  {
   "cell_type": "markdown",
   "id": "1e6b9fe3-cc3d-4e6c-a27a-cf24041a11ad",
   "metadata": {},
   "source": [
    "# Some of the popular languages that Data Scientist use are:\n",
    "1. python\n",
    "2. R\n",
    "3. SQL\n",
    "4. Julia\n",
    "5. Scala"
   ]
  },
  {
   "cell_type": "markdown",
   "id": "d1de599b-aa8a-4c17-a402-ca9b38481e02",
   "metadata": {},
   "source": [
    "# Some of the commonly used Libraries used by Data Scientists include:\n",
    "1. Pandas\n",
    "2. Numpy\n",
    "3. Scikit-learn\n",
    "4. Seaborn\n",
    "5. Matplotlip"
   ]
  },
  {
   "cell_type": "markdown",
   "id": "838fd56f-5b68-4d93-af8a-675574071a16",
   "metadata": {},
   "source": [
    "|Data Science Tools|\n",
    "|------------------|\n",
    "|R-Studio|\n",
    "|Apache Spark|\n",
    "|TensorFlow|"
   ]
  },
  {
   "cell_type": "markdown",
   "id": "516acef3-bd7f-47fc-9a43-24e3367bf6f6",
   "metadata": {},
   "source": [
    "### Below are a few examples of evaluating arithmetic expressions in Python"
   ]
  },
  {
   "cell_type": "code",
   "execution_count": 1,
   "id": "8eca74ed-8566-4463-b8e1-f94978e9ac82",
   "metadata": {
    "tags": []
   },
   "outputs": [
    {
     "data": {
      "text/plain": [
       "17"
      ]
     },
     "execution_count": 1,
     "metadata": {},
     "output_type": "execute_result"
    }
   ],
   "source": [
    "# This a simple arithmetic expression to mutiply then add integers\n",
    "(3*4)+5"
   ]
  },
  {
   "cell_type": "code",
   "execution_count": 2,
   "id": "7fbec69e-4968-4d72-8ba6-af3730716e15",
   "metadata": {
    "tags": []
   },
   "outputs": [
    {
     "data": {
      "text/plain": [
       "3.3333333333333335"
      ]
     },
     "execution_count": 2,
     "metadata": {},
     "output_type": "execute_result"
    }
   ],
   "source": [
    "# This will convert 200 minutes to hours by diving by 60\n",
    "(200/60)"
   ]
  },
  {
   "cell_type": "markdown",
   "id": "fa42cff4-1de7-47ba-8300-6fb2d2ecbf89",
   "metadata": {},
   "source": [
    "## Author\n",
    "Gabriel Sesugh IkYERNUM"
   ]
  },
  {
   "cell_type": "code",
   "execution_count": null,
   "id": "80b18f24-df60-4006-96da-e25e02d4458b",
   "metadata": {},
   "outputs": [],
   "source": []
  }
 ],
 "metadata": {
  "kernelspec": {
   "display_name": "Python",
   "language": "python",
   "name": "conda-env-python-py"
  },
  "language_info": {
   "codemirror_mode": {
    "name": "ipython",
    "version": 3
   },
   "file_extension": ".py",
   "mimetype": "text/x-python",
   "name": "python",
   "nbconvert_exporter": "python",
   "pygments_lexer": "ipython3",
   "version": "3.7.12"
  }
 },
 "nbformat": 4,
 "nbformat_minor": 5
}
